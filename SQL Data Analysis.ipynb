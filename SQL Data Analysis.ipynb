{
 "cells": [
  {
   "cell_type": "markdown",
   "metadata": {},
   "source": [
    "# Working with SQL Data"
   ]
  },
  {
   "cell_type": "code",
   "execution_count": 1,
   "metadata": {},
   "outputs": [],
   "source": [
    "import mysql.connector"
   ]
  },
  {
   "cell_type": "code",
   "execution_count": 2,
   "metadata": {},
   "outputs": [],
   "source": [
    "conn = mysql.connector.connect(host = 'localhost', user = 'root', password = '', database = 'World')"
   ]
  },
  {
   "cell_type": "code",
   "execution_count": 3,
   "metadata": {},
   "outputs": [
    {
     "name": "stderr",
     "output_type": "stream",
     "text": [
      "C:\\Users\\mk744\\AppData\\Local\\Temp\\ipykernel_8768\\294134747.py:2: UserWarning: pandas only supports SQLAlchemy connectable (engine/connection) or database string URI or sqlite3 DBAPI2 connection. Other DBAPI2 objects are not tested. Please consider using SQLAlchemy.\n",
      "  pd.read_sql_query('SELECT * FROM CITY WHERE COUNTRYCODE LIKE \"IND\"', conn)\n"
     ]
    },
    {
     "data": {
      "text/html": [
       "<div>\n",
       "<style scoped>\n",
       "    .dataframe tbody tr th:only-of-type {\n",
       "        vertical-align: middle;\n",
       "    }\n",
       "\n",
       "    .dataframe tbody tr th {\n",
       "        vertical-align: top;\n",
       "    }\n",
       "\n",
       "    .dataframe thead th {\n",
       "        text-align: right;\n",
       "    }\n",
       "</style>\n",
       "<table border=\"1\" class=\"dataframe\">\n",
       "  <thead>\n",
       "    <tr style=\"text-align: right;\">\n",
       "      <th></th>\n",
       "      <th>ID</th>\n",
       "      <th>Name</th>\n",
       "      <th>CountryCode</th>\n",
       "      <th>District</th>\n",
       "      <th>Population</th>\n",
       "    </tr>\n",
       "  </thead>\n",
       "  <tbody>\n",
       "    <tr>\n",
       "      <th>0</th>\n",
       "      <td>1024</td>\n",
       "      <td>Mumbai (Bombay)</td>\n",
       "      <td>IND</td>\n",
       "      <td>Maharashtra</td>\n",
       "      <td>10500000</td>\n",
       "    </tr>\n",
       "    <tr>\n",
       "      <th>1</th>\n",
       "      <td>1025</td>\n",
       "      <td>Delhi</td>\n",
       "      <td>IND</td>\n",
       "      <td>Delhi</td>\n",
       "      <td>7206704</td>\n",
       "    </tr>\n",
       "    <tr>\n",
       "      <th>2</th>\n",
       "      <td>1026</td>\n",
       "      <td>Calcutta [Kolkata]</td>\n",
       "      <td>IND</td>\n",
       "      <td>West Bengali</td>\n",
       "      <td>4399819</td>\n",
       "    </tr>\n",
       "    <tr>\n",
       "      <th>3</th>\n",
       "      <td>1027</td>\n",
       "      <td>Chennai (Madras)</td>\n",
       "      <td>IND</td>\n",
       "      <td>Tamil Nadu</td>\n",
       "      <td>3841396</td>\n",
       "    </tr>\n",
       "    <tr>\n",
       "      <th>4</th>\n",
       "      <td>1028</td>\n",
       "      <td>Hyderabad</td>\n",
       "      <td>IND</td>\n",
       "      <td>Andhra Pradesh</td>\n",
       "      <td>2964638</td>\n",
       "    </tr>\n",
       "    <tr>\n",
       "      <th>...</th>\n",
       "      <td>...</td>\n",
       "      <td>...</td>\n",
       "      <td>...</td>\n",
       "      <td>...</td>\n",
       "      <td>...</td>\n",
       "    </tr>\n",
       "    <tr>\n",
       "      <th>336</th>\n",
       "      <td>1360</td>\n",
       "      <td>Ambala Sadar</td>\n",
       "      <td>IND</td>\n",
       "      <td>Haryana</td>\n",
       "      <td>90712</td>\n",
       "    </tr>\n",
       "    <tr>\n",
       "      <th>337</th>\n",
       "      <td>1361</td>\n",
       "      <td>Baidyabati</td>\n",
       "      <td>IND</td>\n",
       "      <td>West Bengali</td>\n",
       "      <td>90601</td>\n",
       "    </tr>\n",
       "    <tr>\n",
       "      <th>338</th>\n",
       "      <td>1362</td>\n",
       "      <td>Morvi</td>\n",
       "      <td>IND</td>\n",
       "      <td>Gujarat</td>\n",
       "      <td>90357</td>\n",
       "    </tr>\n",
       "    <tr>\n",
       "      <th>339</th>\n",
       "      <td>1363</td>\n",
       "      <td>Raigarh</td>\n",
       "      <td>IND</td>\n",
       "      <td>Chhatisgarh</td>\n",
       "      <td>89166</td>\n",
       "    </tr>\n",
       "    <tr>\n",
       "      <th>340</th>\n",
       "      <td>1364</td>\n",
       "      <td>Vejalpur</td>\n",
       "      <td>IND</td>\n",
       "      <td>Gujarat</td>\n",
       "      <td>89053</td>\n",
       "    </tr>\n",
       "  </tbody>\n",
       "</table>\n",
       "<p>341 rows × 5 columns</p>\n",
       "</div>"
      ],
      "text/plain": [
       "       ID                Name CountryCode        District  Population\n",
       "0    1024     Mumbai (Bombay)         IND     Maharashtra    10500000\n",
       "1    1025               Delhi         IND           Delhi     7206704\n",
       "2    1026  Calcutta [Kolkata]         IND    West Bengali     4399819\n",
       "3    1027    Chennai (Madras)         IND      Tamil Nadu     3841396\n",
       "4    1028           Hyderabad         IND  Andhra Pradesh     2964638\n",
       "..    ...                 ...         ...             ...         ...\n",
       "336  1360        Ambala Sadar         IND         Haryana       90712\n",
       "337  1361          Baidyabati         IND    West Bengali       90601\n",
       "338  1362               Morvi         IND         Gujarat       90357\n",
       "339  1363             Raigarh         IND     Chhatisgarh       89166\n",
       "340  1364            Vejalpur         IND         Gujarat       89053\n",
       "\n",
       "[341 rows x 5 columns]"
      ]
     },
     "execution_count": 3,
     "metadata": {},
     "output_type": "execute_result"
    }
   ],
   "source": [
    "import pandas as pd\n",
    "pd.read_sql_query('SELECT * FROM CITY WHERE COUNTRYCODE LIKE \"IND\"', conn)"
   ]
  },
  {
   "cell_type": "code",
   "execution_count": 4,
   "metadata": {},
   "outputs": [
    {
     "name": "stderr",
     "output_type": "stream",
     "text": [
      "C:\\Users\\mk744\\AppData\\Local\\Temp\\ipykernel_8768\\3869235221.py:1: UserWarning: pandas only supports SQLAlchemy connectable (engine/connection) or database string URI or sqlite3 DBAPI2 connection. Other DBAPI2 objects are not tested. Please consider using SQLAlchemy.\n",
      "  pd.read_sql_query(\"SELECT * FROM COUNTRY WHERE NAME = 'INDIA' \", conn)\n"
     ]
    },
    {
     "data": {
      "text/html": [
       "<div>\n",
       "<style scoped>\n",
       "    .dataframe tbody tr th:only-of-type {\n",
       "        vertical-align: middle;\n",
       "    }\n",
       "\n",
       "    .dataframe tbody tr th {\n",
       "        vertical-align: top;\n",
       "    }\n",
       "\n",
       "    .dataframe thead th {\n",
       "        text-align: right;\n",
       "    }\n",
       "</style>\n",
       "<table border=\"1\" class=\"dataframe\">\n",
       "  <thead>\n",
       "    <tr style=\"text-align: right;\">\n",
       "      <th></th>\n",
       "      <th>Code</th>\n",
       "      <th>Name</th>\n",
       "      <th>Continent</th>\n",
       "      <th>Region</th>\n",
       "      <th>SurfaceArea</th>\n",
       "      <th>IndepYear</th>\n",
       "      <th>Population</th>\n",
       "      <th>LifeExpectancy</th>\n",
       "      <th>GNP</th>\n",
       "      <th>GNPOld</th>\n",
       "      <th>LocalName</th>\n",
       "      <th>GovernmentForm</th>\n",
       "      <th>HeadOfState</th>\n",
       "      <th>Capital</th>\n",
       "      <th>Code2</th>\n",
       "    </tr>\n",
       "  </thead>\n",
       "  <tbody>\n",
       "    <tr>\n",
       "      <th>0</th>\n",
       "      <td>IND</td>\n",
       "      <td>India</td>\n",
       "      <td>Asia</td>\n",
       "      <td>Southern and Central Asia</td>\n",
       "      <td>3287263.0</td>\n",
       "      <td>1947</td>\n",
       "      <td>1013662000</td>\n",
       "      <td>62.5</td>\n",
       "      <td>447114.0</td>\n",
       "      <td>430572.0</td>\n",
       "      <td>Bharat/India</td>\n",
       "      <td>Federal Republic</td>\n",
       "      <td>Kocheril Raman Narayanan</td>\n",
       "      <td>1109</td>\n",
       "      <td>IN</td>\n",
       "    </tr>\n",
       "  </tbody>\n",
       "</table>\n",
       "</div>"
      ],
      "text/plain": [
       "  Code   Name Continent                     Region  SurfaceArea  IndepYear  \\\n",
       "0  IND  India      Asia  Southern and Central Asia    3287263.0       1947   \n",
       "\n",
       "   Population  LifeExpectancy       GNP    GNPOld     LocalName  \\\n",
       "0  1013662000            62.5  447114.0  430572.0  Bharat/India   \n",
       "\n",
       "     GovernmentForm               HeadOfState  Capital Code2  \n",
       "0  Federal Republic  Kocheril Raman Narayanan     1109    IN  "
      ]
     },
     "execution_count": 4,
     "metadata": {},
     "output_type": "execute_result"
    }
   ],
   "source": [
    "pd.read_sql_query(\"SELECT * FROM COUNTRY WHERE NAME = 'INDIA' \", conn)"
   ]
  },
  {
   "cell_type": "code",
   "execution_count": null,
   "metadata": {},
   "outputs": [],
   "source": []
  }
 ],
 "metadata": {
  "kernelspec": {
   "display_name": "Python 3",
   "language": "python",
   "name": "python3"
  },
  "language_info": {
   "codemirror_mode": {
    "name": "ipython",
    "version": 3
   },
   "file_extension": ".py",
   "mimetype": "text/x-python",
   "name": "python",
   "nbconvert_exporter": "python",
   "pygments_lexer": "ipython3",
   "version": "3.10.8"
  }
 },
 "nbformat": 4,
 "nbformat_minor": 2
}
