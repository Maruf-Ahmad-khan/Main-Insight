{
 "cells": [
  {
   "cell_type": "code",
   "execution_count": 3,
   "metadata": {},
   "outputs": [
    {
     "name": "stdout",
     "output_type": "stream",
     "text": [
      "Jaipur 302033 Rajasthan\n"
     ]
    }
   ],
   "source": [
    "class Customer:\n",
    "     def __init__(self, name, gender, address):\n",
    "          self.name = name\n",
    "          self.gender = gender\n",
    "          self.address = address\n",
    "          \n",
    "     def Print_address(self):\n",
    "          print(self.address._Address__city, self.address.pin, self.address.state)\n",
    "          \n",
    "class Address:\n",
    "     def __init__(self, city, pin, state):\n",
    "          self.__city = city\n",
    "          self.pin = pin\n",
    "          self.state = state\n",
    "          \n",
    "     def get_city(self):\n",
    "          return self.__city\n",
    "          \n",
    "add = Address('Jaipur', 302033, 'Rajasthan')\n",
    "cust = Customer('Maruf', 'Male', add)\n",
    "cust.Print_address()"
   ]
  },
  {
   "cell_type": "code",
   "execution_count": 7,
   "metadata": {},
   "outputs": [
    {
     "name": "stdout",
     "output_type": "stream",
     "text": [
      "Jaipur 302033 Rajasthan\n",
      "Bihar 845438 Bihar\n"
     ]
    }
   ],
   "source": [
    "# Edit profile\n",
    "class Customer:\n",
    "     def __init__(self, name, gender, address):\n",
    "          self.name = name \n",
    "          self.gender = gender \n",
    "          self.address = address\n",
    "          \n",
    "     def Print_Address(self):\n",
    "          print(self.address._Address__city, self.address.pin, self.address.state)\n",
    "          \n",
    "     def edit_profile(self, new_name , new_city, new_pin, new_state):\n",
    "          self.new = new_name\n",
    "          self.address.edit_Address(new_city, new_pin, new_state)\n",
    "          \n",
    "class Address:\n",
    "     def __init__(self, city, pin, state):\n",
    "          self.__city = city\n",
    "          self.pin = pin\n",
    "          self.state = state\n",
    "          \n",
    "     def get_city(self):\n",
    "          return self.__city\n",
    "     \n",
    "     def edit_Address(self, new_city, new_pin, new_state):\n",
    "          self.__city = new_city\n",
    "          self.pin = new_pin\n",
    "          self.state = new_state\n",
    "          \n",
    "add = Address('Jaipur', 302033, 'Rajasthan')\n",
    "cust = Customer('Maruf', 'Male', add)\n",
    "cust.Print_Address()\n",
    "cust.edit_profile('Farhan', 'Bihar', 845438, 'Bihar')\n",
    "cust.Print_Address()       \n",
    "     \n",
    "          "
   ]
  },
  {
   "cell_type": "code",
   "execution_count": 11,
   "metadata": {},
   "outputs": [
    {
     "name": "stdout",
     "output_type": "stream",
     "text": [
      "Enroll into the course. \n",
      "login\n",
      "Maruf\n",
      "Male\n"
     ]
    }
   ],
   "source": [
    "# Inheritance\n",
    "class Users:\n",
    "     def __init__(self):\n",
    "          self.name = 'Maruf'\n",
    "          self.gender = 'Male'\n",
    "          \n",
    "     def login(self):\n",
    "          print('login')\n",
    "          \n",
    "class Student(Users):\n",
    "     def __init__(self):\n",
    "          self.rollno = 100\n",
    "          \n",
    "     def enroll(self):\n",
    "          print(\"Enroll into the course. \")\n",
    "          \n",
    "if __name__ == \"__main__\":\n",
    "     user = Users()\n",
    "     student = Student()\n",
    "     student.enroll()\n",
    "     student.login()\n",
    "     print(user.name)\n",
    "     print(user.gender)\n",
    "     "
   ]
  },
  {
   "cell_type": "code",
   "execution_count": 13,
   "metadata": {},
   "outputs": [
    {
     "name": "stdout",
     "output_type": "stream",
     "text": [
      "Model is 2022\n",
      "Audi 24\n"
     ]
    }
   ],
   "source": [
    "class Car:\n",
    "     def __init__(self):\n",
    "          self.model = 'A24'\n",
    "          self.year = 2022\n",
    "          \n",
    "          \n",
    "     def Model(self):\n",
    "          print(\"Model is 2022\")\n",
    "          \n",
    "class Motor_Bike(Car):\n",
    "     def __init__(self):\n",
    "          self.Name = 'Audi'\n",
    "     \n",
    "     def Car_Name(self):\n",
    "          print(\"Audi 24\")\n",
    "          \n",
    "c = Car()\n",
    "m = Motor_Bike()\n",
    "m.Model()\n",
    "m.Car_Name()\n",
    "# print(m.model)"
   ]
  },
  {
   "cell_type": "code",
   "execution_count": null,
   "metadata": {},
   "outputs": [],
   "source": []
  }
 ],
 "metadata": {
  "kernelspec": {
   "display_name": "Python 3",
   "language": "python",
   "name": "python3"
  },
  "language_info": {
   "codemirror_mode": {
    "name": "ipython",
    "version": 3
   },
   "file_extension": ".py",
   "mimetype": "text/x-python",
   "name": "python",
   "nbconvert_exporter": "python",
   "pygments_lexer": "ipython3",
   "version": "3.10.8"
  }
 },
 "nbformat": 4,
 "nbformat_minor": 2
}
